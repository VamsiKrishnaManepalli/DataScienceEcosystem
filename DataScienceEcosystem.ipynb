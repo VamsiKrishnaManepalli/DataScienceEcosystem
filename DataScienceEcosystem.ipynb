{
 "cells": [
  {
   "cell_type": "markdown",
   "id": "2b3018b3",
   "metadata": {},
   "source": [
    "# DataScienceEcosystem"
   ]
  },
  {
   "cell_type": "markdown",
   "id": "46f8c064",
   "metadata": {},
   "source": [
    "In this notebook, Data Science Tools and Ecosystem are summarized."
   ]
  },
  {
   "cell_type": "markdown",
   "id": "2dbea945",
   "metadata": {},
   "source": [
    "Some of the popular languages that Data Scientists use are:\n",
    "1. Python\n",
    "2. R\n",
    "3. Sql\n",
    "4. Scala\n",
    "5. Julia\n"
   ]
  },
  {
   "cell_type": "markdown",
   "id": "352ef187",
   "metadata": {},
   "source": [
    "Some of the commonly used libraries used by Data Scientists include:\n",
    "\n",
    "1. Pandas\n",
    "2. matplotlib\n",
    "3. seaborn\n",
    "4. pytorch\n",
    "5. tensorflow\n",
    "6. scipy\n",
    "7. numpy\n",
    "8. keras\n",
    "9. NLTK"
   ]
  },
  {
   "cell_type": "markdown",
   "id": "ae1a12c3",
   "metadata": {},
   "source": [
    "<table>\n",
    "    <tr>\n",
    "        <th>Data Science Tools </th>\n",
    "    </tr>\n",
    "    <tr>\n",
    "        <td>jupyter notebook</td>\n",
    "    </tr>\n",
    "    <tr>\n",
    "        <td>google collab</td>\n",
    "    </tr>\n",
    "    <tr>\n",
    "        <td>R Studia</td>\n",
    "    </tr>\n",
    "    <tr>\n",
    "        <td>vs code</td>\n",
    "    </tr>\n",
    "</table>\n",
    "    \n",
    "        \n",
    "        "
   ]
  },
  {
   "cell_type": "markdown",
   "id": "b3e767fd",
   "metadata": {},
   "source": [
    "### Below are a few examples of evaluating arithmetic expressions in Python.\n"
   ]
  },
  {
   "cell_type": "code",
   "execution_count": 1,
   "id": "b855d9eb",
   "metadata": {},
   "outputs": [
    {
     "name": "stdout",
     "output_type": "stream",
     "text": [
      "8\n",
      "6\n",
      "18\n",
      "4.0\n",
      "4\n",
      "2\n",
      "8\n"
     ]
    }
   ],
   "source": [
    "result = 5 + 3   # Addition\n",
    "print(result)   # Output: 8\n",
    "\n",
    "result = 10 - 4  # Subtraction\n",
    "print(result)   # Output: 6\n",
    "\n",
    "result = 3 * 6   # Multiplication\n",
    "print(result)   # Output: 18\n",
    "\n",
    "result = 20 / 5  # Division (result will be a float)\n",
    "print(result)   # Output: 4.0\n",
    "\n",
    "result = 20 // 5 # Integer Division (result will be an integer)\n",
    "print(result)   # Output: 4\n",
    "\n",
    "result = 11 % 3  # Modulo (remainder of division)\n",
    "print(result)   # Output: 2\n",
    "\n",
    "result = 2 ** 3  # Exponentiation (2 raised to the power of 3)\n",
    "print(result)   # Output: 8\n"
   ]
  },
  {
   "cell_type": "markdown",
   "id": "44ec24bd",
   "metadata": {},
   "source": [
    "This a simple arithmetic expression to mutiply then add integers:"
   ]
  },
  {
   "cell_type": "code",
   "execution_count": 2,
   "id": "ad09c232",
   "metadata": {},
   "outputs": [
    {
     "data": {
      "text/plain": [
       "17"
      ]
     },
     "execution_count": 2,
     "metadata": {},
     "output_type": "execute_result"
    }
   ],
   "source": [
    "(3*4)+5"
   ]
  },
  {
   "cell_type": "markdown",
   "id": "1dcbdf77",
   "metadata": {},
   "source": [
    "This will convert 200 minutes to hours by diving by 60."
   ]
  },
  {
   "cell_type": "code",
   "execution_count": 4,
   "id": "b3287817",
   "metadata": {},
   "outputs": [
    {
     "name": "stdout",
     "output_type": "stream",
     "text": [
      "3.3333333333333335\n"
     ]
    }
   ],
   "source": [
    "minutes = 200\n",
    "hours = minutes/60\n",
    "print(hours)"
   ]
  },
  {
   "cell_type": "markdown",
   "id": "25f0461b",
   "metadata": {},
   "source": [
    "<b>Objectives</b>\n",
    "<ul>\n",
    "    <li>List popular languages for Data Science.\n",
    "    <li>Introduce common libraries used by Data Scientists.\n",
    "    <li>Demonstrate how to create and use Jupyter Notebook for Data Science tasks.\n",
    "    <li>Provide examples of evaluating arithmetic expressions in Python.\n",
    "    <li> Illustrate how to create tables in Markdown cells for data representation.\n",
    "\n"
   ]
  },
  {
   "cell_type": "markdown",
   "id": "fd4948b8",
   "metadata": {},
   "source": [
    "## Author:\n",
    "Nageswara vamsi krishna Manepalli"
   ]
  }
 ],
 "metadata": {
  "kernelspec": {
   "display_name": "Python 3 (ipykernel)",
   "language": "python",
   "name": "python3"
  },
  "language_info": {
   "codemirror_mode": {
    "name": "ipython",
    "version": 3
   },
   "file_extension": ".py",
   "mimetype": "text/x-python",
   "name": "python",
   "nbconvert_exporter": "python",
   "pygments_lexer": "ipython3",
   "version": "3.10.3"
  }
 },
 "nbformat": 4,
 "nbformat_minor": 5
}
